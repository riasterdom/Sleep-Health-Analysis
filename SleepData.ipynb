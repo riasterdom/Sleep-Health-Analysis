{
  "nbformat": 4,
  "nbformat_minor": 0,
  "metadata": {
    "colab": {
      "provenance": []
    },
    "kernelspec": {
      "name": "python3",
      "display_name": "Python 3"
    },
    "language_info": {
      "name": "python"
    }
  },
  "cells": [
    {
      "cell_type": "code",
      "execution_count": 10,
      "metadata": {
        "colab": {
          "base_uri": "https://localhost:8080/"
        },
        "id": "cGvM9tZwYdfc",
        "outputId": "c110678b-9ecc-440d-8484-e8472b4490ae"
      },
      "outputs": [
        {
          "output_type": "stream",
          "name": "stdout",
          "text": [
            "The occupation with the lowest average sleep duration:  Sales Representative\n",
            "Occupation that had the lowest quality of on average:  Sales Representative\n",
            "Ratio of app users in normal BMI category have been diagnosed with Insomnia:  0.04\n",
            "Ratio of people who are overweight and have insomnia:  0.43\n",
            "Ratio of people who are obese and have insomnia:  0.4\n",
            "{'Normal': 0.04, 'Overweight': 0.43, 'Obese': 0.4}\n"
          ]
        }
      ],
      "source": [
        "import pandas as pd\n",
        "# Read in the data\n",
        "sleep_df = pd.read_csv('/sleep_health_data.csv')\n",
        "\n",
        "# 1. Which occupation has the lowest average sleep duration?\n",
        "\n",
        "sleep_duration = sleep_df.groupby('Occupation')['Sleep Duration'].mean()\n",
        "# occupation with lowest average sleep duration\n",
        "lowest_sleep_occ = sleep_duration.sort_values().index[0]\n",
        "\n",
        "# 2. Which occupation had the lowest quality of on average? Did the occupation with the lowest sleep duration also have the worst sleep quality?\n",
        "\n",
        "\n",
        "sleep_quality = sleep_df.groupby('Occupation')['Quality of Sleep'].mean()\n",
        "# Get occupation with lowest average sleep quality\n",
        "lowest_sleep_quality_occ = sleep_quality.sort_values().index[0]\n",
        "\n",
        "# Compare occupation with the least sleep to occupation with the lowest sleep quality\n",
        "if lowest_sleep_occ == lowest_sleep_quality_occ:\n",
        "  same_occ = True\n",
        "else:\n",
        "  same_occ = False\n",
        "\n",
        "# 3. Let's explore how BMI Category can affect sleep disorder rates. Starting by finding what ratio of app users in each BMI category have been diagnosed with Insomnia.\n",
        "\n",
        "\n",
        "# Filter the full dataframe to only rows where BMI Category is Normal and Sleep Disorder is Insomnia.\n",
        "normal = sleep_df[(sleep_df[\"BMI Category\"] == \"Normal\") &\n",
        "                  (sleep_df[\"Sleep Disorder\"] == \"Insomnia\")]\n",
        "normal2 = sleep_df[(sleep_df[\"BMI Category\"] == \"Normal Weight\") &\n",
        "                  (sleep_df[\"Sleep Disorder\"] == \"Insomnia\")]\n",
        "# Total normal rows\n",
        "total_normal = len(sleep_df[sleep_df[\"BMI Category\"] == \"Normal\"])\n",
        "# Calculate normal insomnia ratio\n",
        "normal_insomnia_ratio = round(len(normal) / total_normal, 2)\n",
        "\n",
        "\n",
        "# Overweight\n",
        "# Filter the full dataframe to only rows where BMI Category is Overweight and Sleep Disorder is Insomnia.\n",
        "overweight = sleep_df[(sleep_df[\"BMI Category\"] == \"Overweight\") &\n",
        "                      (sleep_df[\"Sleep Disorder\"] == \"Insomnia\")]\n",
        "# Total overweight rows\n",
        "total_overweight = len(sleep_df[sleep_df[\"BMI Category\"] == \"Overweight\"])\n",
        "# Calculate overweight insomnia ratio\n",
        "overweight_insomnia_ratio = round(len(overweight) / total_overweight, 2)\n",
        "\n",
        "\n",
        "# Obese\n",
        "# Filter the full dataframe to only rows where BMI Category is Obese and Sleep Disorder is Insomnia.\n",
        "obese = sleep_df[(sleep_df[\"BMI Category\"] == \"Obese\") &\n",
        "                  (sleep_df[\"Sleep Disorder\"] == \"Insomnia\")]\n",
        "# Total obese rows\n",
        "total_obese = len(sleep_df[sleep_df[\"BMI Category\"] == \"Obese\"])\n",
        "# Calculate obese insomnia ratio\n",
        "obese_insomnia_ratio = round(len(obese) / total_obese, 2)\n",
        "\n",
        "\n",
        "# Create dictionary to store the ratios for each BMI category\n",
        "bmi_insomnia_ratios = {\n",
        "    \"Normal\": normal_insomnia_ratio,\n",
        "    \"Overweight\": overweight_insomnia_ratio,\n",
        "    \"Obese\": obese_insomnia_ratio\n",
        "}\n",
        "\n",
        "\n",
        "#Results and findings...\n",
        "print(\"The occupation with the lowest average sleep duration: \",lowest_sleep_occ)\n",
        "print(\"Occupation that had the lowest quality of on average: \",lowest_sleep_quality_occ)\n",
        "print(\"Ratio of app users in normal BMI category have been diagnosed with Insomnia: \",normal_insomnia_ratio)\n",
        "print(\"Ratio of people who are overweight and have insomnia: \",overweight_insomnia_ratio)\n",
        "print(\"Ratio of people who are obese and have insomnia: \",obese_insomnia_ratio)"
      ]
    }
  ]
}